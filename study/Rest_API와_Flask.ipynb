{
  "nbformat": 4,
  "nbformat_minor": 0,
  "metadata": {
    "colab": {
      "name": "Rest API와 Flask.ipynb",
      "provenance": [],
      "authorship_tag": "ABX9TyOZNq80QtNpP72gaZX4bDzj",
      "include_colab_link": true
    },
    "kernelspec": {
      "name": "python3",
      "display_name": "Python 3"
    },
    "language_info": {
      "name": "python"
    }
  },
  "cells": [
    {
      "cell_type": "markdown",
      "metadata": {
        "id": "view-in-github",
        "colab_type": "text"
      },
      "source": [
        "<a href=\"https://colab.research.google.com/github/yuneun92/personal_study/blob/main/Rest_API%EC%99%80_Flask.ipynb\" target=\"_parent\"><img src=\"https://colab.research.google.com/assets/colab-badge.svg\" alt=\"Open In Colab\"/></a>"
      ]
    },
    {
      "cell_type": "markdown",
      "source": [
        "#**개요**\n",
        "\n",
        "1. API(Application Programming Interface): 응용프로그램에서 사용할 수 있도록 운영 체제나 프로그래밍 언어가 제공하는 기능을 제어할 수 있게 만든 인터페이스. 주로 창 제어, 화상처리, 문자 제어 등을 위한 인터페이스를 제공한다. \n",
        "  - 파이썬의 함수나 클래스 같은 기능들 하나하나가 일종의 API\n",
        "\n",
        "2. Rest(Representational State Transfer): 자원(Resource)의 표현(Representation)에 의한 정보전달. \n",
        "\n",
        "  - 예를 들면 파이썬의 list나 dictionary등 자원을 json 파일의 형태(표현)으로 전달하는 것. \n",
        "  - Rest API: Rest의 특징을 지키며 API를 제공하는 것\n",
        "  - 구성요소\n",
        "    1. 자원(Resource): URI(인터넷 주소와 같은 형식)\n",
        "    2. 행위: HTTP 메소드\n",
        "      - GET(특정 값을 달라고 요청)\n",
        "      - POST(값을 주고 받음)\n",
        "      - PUT(값을 줌)\n",
        "      - DELETE(있는 값을 지움)\n",
        "    3. 표현: Representation of Resource\n",
        "      - JSON, XML, RSS 등\n",
        "  - Rest API를 사용하기 위한 메소드는 requests"
      ],
      "metadata": {
        "id": "KI0AICdpfMKT"
      }
    },
    {
      "cell_type": "code",
      "source": [
        "import requests\n",
        "\n",
        "#네이버지도 F12 Network에서 가져온 주소\n",
        "result = requests.get('https://map.naver.com/v5/api/geocode?request=coordsToaddr&version=1.0&sourcecrs=epsg:4326&output=json&orders=addr,roadaddr&coords=127.0343047,37.5534443')"
      ],
      "metadata": {
        "id": "3gS8BiKLgdr4"
      },
      "execution_count": 5,
      "outputs": []
    },
    {
      "cell_type": "code",
      "execution_count": 6,
      "metadata": {
        "colab": {
          "base_uri": "https://localhost:8080/"
        },
        "id": "ehmsUJyPeyOI",
        "outputId": "47c7154d-9f0b-45b2-e04c-ead82b4c0c62"
      },
      "outputs": [
        {
          "output_type": "execute_result",
          "data": {
            "text/plain": [
              "{'results': [{'code': {'id': '1120010800',\n",
              "    'mappingId': '09200108',\n",
              "    'type': 'L'},\n",
              "   'land': {'addition0': {'type': '', 'value': ''},\n",
              "    'addition1': {'type': '', 'value': ''},\n",
              "    'addition2': {'type': '', 'value': ''},\n",
              "    'addition3': {'type': '', 'value': ''},\n",
              "    'addition4': {'type': '', 'value': ''},\n",
              "    'coords': {'center': {'crs': '', 'x': 0.0, 'y': 0.0}},\n",
              "    'number1': '100',\n",
              "    'number2': '',\n",
              "    'type': '1'},\n",
              "   'name': 'addr',\n",
              "   'region': {'area0': {'coords': {'center': {'crs': '', 'x': 0.0, 'y': 0.0}},\n",
              "     'name': 'kr'},\n",
              "    'area1': {'alias': '서울',\n",
              "     'coords': {'center': {'crs': 'EPSG:4326',\n",
              "       'x': 126.9783882,\n",
              "       'y': 37.5666103}},\n",
              "     'name': '서울특별시'},\n",
              "    'area2': {'coords': {'center': {'crs': 'EPSG:4326',\n",
              "       'x': 127.036821,\n",
              "       'y': 37.563456}},\n",
              "     'name': '성동구'},\n",
              "    'area3': {'coords': {'center': {'crs': 'EPSG:4326',\n",
              "       'x': 127.0334357,\n",
              "       'y': 37.5531636}},\n",
              "     'name': '응봉동'},\n",
              "    'area4': {'coords': {'center': {'crs': '', 'x': 0.0, 'y': 0.0}},\n",
              "     'name': ''}}},\n",
              "  {'code': {'id': '1120010800', 'mappingId': '09200108', 'type': 'L'},\n",
              "   'land': {'addition0': {'type': 'building', 'value': '대림종합상가'},\n",
              "    'addition1': {'type': 'zipcode', 'value': '04741'},\n",
              "    'addition2': {'type': 'roadGroupCode', 'value': '112003005014'},\n",
              "    'addition3': {'type': '', 'value': ''},\n",
              "    'addition4': {'type': '', 'value': ''},\n",
              "    'coords': {'center': {'crs': '', 'x': 0.0, 'y': 0.0}},\n",
              "    'name': '독서당로',\n",
              "    'number1': '434',\n",
              "    'number2': '',\n",
              "    'type': ''},\n",
              "   'name': 'roadaddr',\n",
              "   'region': {'area0': {'coords': {'center': {'crs': '', 'x': 0.0, 'y': 0.0}},\n",
              "     'name': 'kr'},\n",
              "    'area1': {'alias': '서울',\n",
              "     'coords': {'center': {'crs': 'EPSG:4326',\n",
              "       'x': 126.9783882,\n",
              "       'y': 37.5666103}},\n",
              "     'name': '서울특별시'},\n",
              "    'area2': {'coords': {'center': {'crs': 'EPSG:4326',\n",
              "       'x': 127.036821,\n",
              "       'y': 37.563456}},\n",
              "     'name': '성동구'},\n",
              "    'area3': {'coords': {'center': {'crs': 'EPSG:4326',\n",
              "       'x': 127.0334357,\n",
              "       'y': 37.5531636}},\n",
              "     'name': '응봉동'},\n",
              "    'area4': {'coords': {'center': {'crs': '', 'x': 0.0, 'y': 0.0}},\n",
              "     'name': ''}}}],\n",
              " 'status': {'code': 0, 'message': 'done', 'name': 'ok'}}"
            ]
          },
          "metadata": {},
          "execution_count": 6
        }
      ],
      "source": [
        "result.json()"
      ]
    },
    {
      "cell_type": "code",
      "source": [
        "type(result.json())"
      ],
      "metadata": {
        "colab": {
          "base_uri": "https://localhost:8080/"
        },
        "id": "VrvzprIniCbJ",
        "outputId": "10f51cec-082a-4a45-d8b8-e52e2f12e46e"
      },
      "execution_count": 7,
      "outputs": [
        {
          "output_type": "execute_result",
          "data": {
            "text/plain": [
              "dict"
            ]
          },
          "metadata": {},
          "execution_count": 7
        }
      ]
    }
  ]
}