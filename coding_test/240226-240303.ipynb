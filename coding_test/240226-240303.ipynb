{
 "cells": [
  {
   "cell_type": "markdown",
   "metadata": {},
   "source": [
    "[프로그래머스] 모의고사\n",
    "- 알고리즘: 완전 탐색\n",
    "- 주로 고민한 점: 확장성 있는 코드 짜기\n"
   ]
  },
  {
   "cell_type": "code",
   "execution_count": 1,
   "metadata": {},
   "outputs": [],
   "source": [
    "\n",
    "def solution(answers):\n",
    "    players = [[1,2,3,4,5], [2,1,2,3,2,4,2,5], [3,3,1,1,2,2,4,4,5,5]]    \n",
    "    counts = [0]*len(players)\n",
    "\n",
    "    for i, answer in enumerate(answers):\n",
    "        for j, player in enumerate(players):\n",
    "            if player[i % len(player)] == answer:\n",
    "                counts[j] += 1\n",
    "                \n",
    "    return  [idx+1 for idx, count in enumerate(counts) if count == max(counts)]"
   ]
  },
  {
   "cell_type": "markdown",
   "metadata": {},
   "source": [
    "[프로그래머스] 두 개 뽑아서 더하기"
   ]
  },
  {
   "cell_type": "code",
   "execution_count": 2,
   "metadata": {},
   "outputs": [],
   "source": [
    "def solution(numbers):\n",
    "    ans = list()\n",
    "    for i in range(len(numbers)):\n",
    "        for j in range(i+1, len(numbers)):\n",
    "            ans.append(numbers[i]+numbers[j])\n",
    "    return sorted(list(set(ans)))\n",
    "\n"
   ]
  },
  {
   "cell_type": "markdown",
   "metadata": {},
   "source": [
    "[프로그래머스] [2018 KAKAO BLIND RECRUITMENT 1차] 다트게임\n",
    "- 알고리즘: 구현\n",
    "- 주로 고민한 점: 정규표현식으로 풀기 (효율적 풀이)"
   ]
  },
  {
   "cell_type": "code",
   "execution_count": null,
   "metadata": {},
   "outputs": [],
   "source": [
    "import re\n",
    "\n",
    "def solution(dartResult):\n",
    "    bonus = {'S':1, 'D':2, 'T':3}\n",
    "    option = {'' : 1, '*' : 2, '#' : -1}\n",
    "    score = []\n",
    "    results = re.findall('(\\d{,2})(\\w)(\\W?)', dartResult)\n",
    "    \n",
    "    for i in range(len(results)):\n",
    "        if results[i][2] == '*':\n",
    "            if i > 0:\n",
    "                score[i-1] *= 2\n",
    "            score.append(int(results[i][0])**bonus[results[i][1]]* option[results[i][2]])\n",
    "    \n",
    "    return sum(score)"
   ]
  },
  {
   "cell_type": "markdown",
   "metadata": {},
   "source": [
    "[프로그래머스] 부족한 금액 계산하기\n",
    "- 알고리즘: 구현\n",
    "- TIL: 좀만 더 생각해서 시간 복잡도도 고려하자 ... "
   ]
  },
  {
   "cell_type": "code",
   "execution_count": null,
   "metadata": {},
   "outputs": [],
   "source": [
    "def solution(price, money, count):\n",
    "    ans = price*sum(range(count+1))-money\n",
    "    return ans if ans > 0 else 0\n",
    "\n",
    "# 다른 사람 풀이\n",
    "def solution(price, money, count):\n",
    "    return max(0,price*(count+1)*count//2-money)  "
   ]
  },
  {
   "cell_type": "code",
   "execution_count": null,
   "metadata": {},
   "outputs": [],
   "source": []
  }
 ],
 "metadata": {
  "kernelspec": {
   "display_name": "Python 3",
   "language": "python",
   "name": "python3"
  },
  "language_info": {
   "codemirror_mode": {
    "name": "ipython",
    "version": 3
   },
   "file_extension": ".py",
   "mimetype": "text/x-python",
   "name": "python",
   "nbconvert_exporter": "python",
   "pygments_lexer": "ipython3",
   "version": "3.8.18"
  }
 },
 "nbformat": 4,
 "nbformat_minor": 2
}
