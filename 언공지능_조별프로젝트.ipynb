{
  "nbformat": 4,
  "nbformat_minor": 0,
  "metadata": {
    "colab": {
      "provenance": [],
      "authorship_tag": "ABX9TyNZucisWG8tThHxDxSuL4Mu",
      "include_colab_link": true
    },
    "kernelspec": {
      "name": "python3",
      "display_name": "Python 3"
    },
    "language_info": {
      "name": "python"
    }
  },
  "cells": [
    {
      "cell_type": "markdown",
      "metadata": {
        "id": "view-in-github",
        "colab_type": "text"
      },
      "source": [
        "<a href=\"https://colab.research.google.com/github/yuneun92/personal_study/blob/main/%EC%96%B8%EA%B3%B5%EC%A7%80%EB%8A%A5_%EC%A1%B0%EB%B3%84%ED%94%84%EB%A1%9C%EC%A0%9D%ED%8A%B8.ipynb\" target=\"_parent\"><img src=\"https://colab.research.google.com/assets/colab-badge.svg\" alt=\"Open In Colab\"/></a>"
      ]
    },
    {
      "cell_type": "markdown",
      "source": [
        "# **쉬운 의학 시소러스**\n",
        "\n",
        "### **1. 배경, 연구 목적**\n",
        "\n",
        "  오늘날 검색엔진의 발달로, 우리는 손쉽게 의학 용어를 검색할 수 있다. 그러나, 우리가 필요로 하는 의학 용어와 매치되는 내용이 있더라도, 도표나 그래프, 사진 아래의 캡션 등의 글자는 검색 결과에서 제외되어 원하는 결과를 얻기 어려워지는 경우가 많다. MeSH 시소러스는 이를 방지하기 위해 각 논문 별로 초록에서부터 주석까지, 10개에서 12개의 키워드를 추출한다. 이는 검색 엔진의 성능을 더욱 좋게 만들어준다. MeSH는 PudMed 등 여러 논문 검색 엔진과 연동하여 치료법/증상 등 원하는 분야의 정보에 보다 쉽게 접근할 수 있도록 해준다. \n",
        "\n",
        "  앞서 언급한 검색에서의 문제점은, 한국 검색엔진에서도 해결해야 할 사항 중 하나이다. 그러나 의학 시소러스의 구축은 주로 의료계와 언어학계 개발진들이 함께 수작업으로 진행해야 하며, 잘못된 정보를 제공했을 때의 1종 오류 및 2종 오류의 위험성이 발생한다. 따라서 본 프로젝트는 **'MeSH의 의학 정보에서 추출한 용어들을 한국어로 바꾸어, MeSH 시소러스의 번역을 통한 한국어 의학 시소러스 구축 '**을 1차 목적으로 한다. 다음으로, 실효성을 위해서는 비교적 전문어에 익숙하지 못한 일반인들에게 쉬운 의학 용어 및 설명 제공을 2차 목적으로 한다. 2차 목적은 챗봇 등의 방법을 통해 실현될 것이다. \n",
        "\n",
        "  또한, 연구자의 역량과 시간적 한계를 고려하여 본 프로젝트는 대규모 시소러스 번역에 대한 가능성을 제공하되, 대상 신체 부위를 '발목 인대'로 한정하여 보다 구체적인 연구 방법 및 활용 방안을 제시할 예정이다.\n",
        "\n",
        "### **2. 수익 모델**\n",
        "\n",
        "공익을 목적으로 함. (비영리)\n",
        "\n",
        "### **3. 연구 방법**\n",
        "\n",
        "*   MeSH와 PudMed을 활용하여 발목 인대 질병 관련 논문을 수집한다. \n",
        "    이때 유의어/치료법/증상 등 카테고리를 나누어 정보를 수집한다. \n",
        "*   논문 별로 키워드 용어 추출을 하여 해당 문장을 엑셀 형식 output으로 만든다. 사용 기법은 python의 반복문과 정규화(NLP)를 활용한다. \n",
        "\n",
        "*   추출된 정보들을 구문 분석, 기계 번역 도구를 사용해 영어에서 한국어로 해석한다. \n",
        "\n",
        "*   수작업으로 어색한 표현/잘못 분류된 정보를 수정한다. \n",
        "\n",
        "*   행렬 타입으로 각 질병 별 유의어, 증상, 치료법을 매핑한다. \n",
        "\n",
        "*   특정 질병을 사용자가 input으로 주었을 때 위의 매핑된 정보를 정렬해서 제공하는 챗봇을 hugging face의 데모를 활용해 만든다. \n",
        "\n"
      ],
      "metadata": {
        "id": "b5w31dXoXJ2T"
      }
    },
    {
      "cell_type": "code",
      "source": [],
      "metadata": {
        "id": "gkMY937YbNbb"
      },
      "execution_count": null,
      "outputs": []
    }
  ]
}